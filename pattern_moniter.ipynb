{
  "nbformat": 4,
  "nbformat_minor": 0,
  "metadata": {
    "colab": {
      "name": "pattern_moniter.ipynb",
      "provenance": [],
      "collapsed_sections": [],
      "machine_shape": "hm"
    },
    "kernelspec": {
      "name": "python3",
      "display_name": "Python 3"
    },
    "accelerator": "GPU"
  },
  "cells": [
    {
      "cell_type": "markdown",
      "metadata": {
        "id": "eL7T57UGrhx2"
      },
      "source": [
        "# COMP 137 Final Project\n",
        "Ethan Oliver\n"
      ]
    },
    {
      "cell_type": "code",
      "metadata": {
        "colab": {
          "base_uri": "https://localhost:8080/"
        },
        "id": "1jK40wrXbaXY",
        "outputId": "21b3ed37-391a-45ef-8f37-a20fc8bad745"
      },
      "source": [
        "import tensorflow as tf\n",
        "import requests\n",
        "print(tf.__version__)\n",
        "import zipfile\n",
        "import requests\n",
        "import os\n",
        "import time\n",
        "import pandas as pd\n",
        "import random\n",
        "import shutil\n",
        "from tensorflow.keras.preprocessing.image import ImageDataGenerator\n",
        "import os\n",
        "from tensorflow.keras.layers import Input, Conv2D, MaxPool2D, AvgPool2D, Dense, Concatenate, Flatten, Lambda, Dropout\n",
        "from tensorflow.keras.models import Model\n",
        "from tensorflow.keras.losses import CategoricalCrossentropy\n",
        "import tensorflow.keras.backend as K\n",
        "from tensorflow.keras.callbacks import EarlyStopping, CSVLogger\n",
        "import numpy as np\n",
        "from PIL import Image\n",
        "import tensorflow.keras.backend as K\n",
        "import pickle\n",
        "from tensorflow.keras.models import load_model, Model"
      ],
      "execution_count": null,
      "outputs": [
        {
          "output_type": "stream",
          "text": [
            "2.4.0\n"
          ],
          "name": "stdout"
        }
      ]
    },
    {
      "cell_type": "code",
      "metadata": {
        "id": "lnTdDlKYiKdF"
      },
      "source": [
        "!pip install dd\n",
        "from dd.autoref import BDD"
      ],
      "execution_count": null,
      "outputs": []
    },
    {
      "cell_type": "code",
      "metadata": {
        "id": "CuyjbbQ4btMg"
      },
      "source": [
        "!cp /content/drive/MyDrive/deep_learning/tiny-imagenet-200.zip ."
      ],
      "execution_count": null,
      "outputs": []
    },
    {
      "cell_type": "code",
      "metadata": {
        "id": "jbnYCJpmbxfZ"
      },
      "source": [
        "!unzip /content/tiny-imagenet-200.zip"
      ],
      "execution_count": null,
      "outputs": []
    },
    {
      "cell_type": "code",
      "metadata": {
        "id": "_ZFlU1vEb2bq"
      },
      "source": [
        "#pretrained dense_model\n",
        "dense_model = load_model(\"/content/drive/MyDrive/deep_learning/dense_post_model\")"
      ],
      "execution_count": null,
      "outputs": []
    },
    {
      "cell_type": "code",
      "metadata": {
        "id": "PtQELsF7hwJH"
      },
      "source": [
        "#partial model to get the 1024 feature vector\n",
        "partial_model = Model(dense_model.inputs, dense_model.layers[1].output)"
      ],
      "execution_count": null,
      "outputs": []
    },
    {
      "cell_type": "code",
      "metadata": {
        "colab": {
          "base_uri": "https://localhost:8080/"
        },
        "id": "8MVNNB7ib7Yv",
        "outputId": "35a87377-f6a1-48e5-fb99-e0b05f83880a"
      },
      "source": [
        "#load in data into Keras generators\n",
        "from functools import partial\n",
        "\n",
        "def get_df(labels_path):\n",
        "    test_df = pd.read_csv(labels_path, sep='\\t', index_col=None, header=None)\n",
        "    test_df = test_df.iloc[:,[0,1]].rename({0:\"filename\", 1:\"class\"}, axis=1)\n",
        "    return test_df\n",
        "\n",
        "def load_data(batch_size, im_size):\n",
        "    image_gen = ImageDataGenerator(samplewise_center=False)\n",
        "    \n",
        "    # Training data\n",
        "    training_flow_func = partial(\n",
        "        image_gen.flow_from_directory, \n",
        "        directory=os.path.join('/content','tiny-imagenet-200', 'train'), \n",
        "        target_size=im_size, classes=None,\n",
        "        class_mode='categorical', batch_size=batch_size, \n",
        "        shuffle=False)\n",
        "    \n",
        "    # Training data subset\n",
        "    train_gen = training_flow_func(subset='training')\n",
        "\n",
        "    # Test data from validation dataset\n",
        "    test_df = get_df(os.path.join('/content','tiny-imagenet-200',  'val', 'val_annotations.txt'))\n",
        "    test_gen = image_gen.flow_from_dataframe(\n",
        "        test_df, directory=os.path.join('/content','tiny-imagenet-200',  'val', 'images'), target_size=im_size, classes=None,\n",
        "        class_mode='categorical', batch_size=batch_size, shuffle=False\n",
        "    )\n",
        "    return train_gen, test_gen\n",
        "       \n",
        "batch_size = 100\n",
        "im_size = (224,224)\n",
        "\n",
        "train_gen, test_gen = load_data(batch_size, im_size)"
      ],
      "execution_count": null,
      "outputs": [
        {
          "output_type": "stream",
          "text": [
            "Found 100000 images belonging to 200 classes.\n",
            "Found 10000 validated image filenames belonging to 200 classes.\n"
          ],
          "name": "stdout"
        }
      ]
    },
    {
      "cell_type": "markdown",
      "metadata": {
        "id": "VaHZMNFzro7c"
      },
      "source": [
        "#NAP Class Definition"
      ]
    },
    {
      "cell_type": "code",
      "metadata": {
        "id": "ms1zDXzEdNjs"
      },
      "source": [
        "#NAP Class Monitor\n",
        "class Class_Monitor():\n",
        "  def __init__(self, num_neurons, class_weights, bdd, split, varname):\n",
        "    # init empty pattern set\n",
        "    self.patterns = bdd.false\n",
        "\n",
        "    self.num_neurons = num_neurons\n",
        "    self.varname = varname\n",
        "\n",
        "    # find the most influencial weights for that class\n",
        "    top_indices = np.argsort(class_weights)\n",
        "\n",
        "    # decide if selecting all positive neurons or a split of negative and positive\n",
        "    if split == 0:\n",
        "      self.indices = top_indices[(-num_neurons):]\n",
        "    else:\n",
        "      top_split = top_indices[:split]\n",
        "      bottom_split = top_indices[(-(num_neurons-split)):]\n",
        "      self.indices = np.concatenate((top_split, bottom_split))\n",
        "      print(self.indices.shape)\n",
        "\n",
        "  def addpattern(self, bdd,  neuron_pattern):\n",
        "      selected_pattern = neuron_pattern[self.indices]\n",
        "\n",
        "      # Generate constraint\n",
        "      pattern_gen = \"\"\n",
        "      for i in range(self.num_neurons):\n",
        "        if i != 0:\n",
        "          pattern_gen = pattern_gen + \" & \"\n",
        "\n",
        "        if selected_pattern[i]:\n",
        "          pattern_gen = pattern_gen + self.varname + str(i)\n",
        "        else:\n",
        "          pattern_gen = pattern_gen + \"!\" + self.varname + str(i)\n",
        "\n",
        "      # Encode into bdd\n",
        "      self.patterns = self.patterns | bdd.add_expr(pattern_gen)\n",
        "\n",
        "  def ispattern(self, bdd,  neuron_pattern):\n",
        "      selected_pattern = neuron_pattern[self.indices]\n",
        "\n",
        "      # Generate constraint\n",
        "      pattern_gen = \"\"\n",
        "      for i in range(self.num_neurons):\n",
        "        if i != 0:\n",
        "          pattern_gen = pattern_gen + \" & \"\n",
        "\n",
        "        if selected_pattern[i]:\n",
        "          pattern_gen = pattern_gen + self.varname + str(i)\n",
        "        else:\n",
        "          pattern_gen = pattern_gen + \"!\" + self.varname + str(i)\n",
        "\n",
        "      #Check if pattern is in patterns    \n",
        "      if ( self.patterns & bdd.add_expr(pattern_gen)) == bdd.false :            \n",
        "          return False\n",
        "      else:\n",
        "          return True\n",
        "\n",
        "  def enlargeset(self, bdd):\n",
        "    enlargedpatterns = self.patterns\n",
        "    for i in range(self.num_neurons):\n",
        "        #add a pattern with one var changed for each var\n",
        "        enlargedpatterns = enlargedpatterns | bdd.exist([self.varname + str(i)], self.patterns)\n",
        "    self.patterns = enlargedpatterns  "
      ],
      "execution_count": null,
      "outputs": []
    },
    {
      "cell_type": "code",
      "metadata": {
        "id": "NmMyCgZmhnLB"
      },
      "source": [
        "#Initilizes each class selects what weights to use\n",
        "def init_class_monitors(num_neurons = 100, num_classes = 50, split = 0, varname = 'p' ):\n",
        "  bdd_new = BDD()\n",
        "  for i in range(num_neurons):\n",
        "      bdd_new.add_var(varname+str(i))\n",
        "\n",
        "  class_monitor_list =[]\n",
        "  weights = dense_model.layers[2].weights[0]\n",
        "\n",
        "  for i in range(num_classes):\n",
        "    class_weights = weights[:,i]\n",
        "    c = Class_Monitor(num_neurons, class_weights, bdd_new, split = split, varname=varname)\n",
        "    class_monitor_list.append(c)\n",
        "\n",
        "  return bdd_new, class_monitor_list"
      ],
      "execution_count": null,
      "outputs": []
    },
    {
      "cell_type": "code",
      "metadata": {
        "id": "oxSSmnGqjbeR"
      },
      "source": [
        "bdd_new, class_monitor_list = init_class_monitors()"
      ],
      "execution_count": null,
      "outputs": []
    },
    {
      "cell_type": "code",
      "metadata": {
        "id": "KA2r9ft8j-ro"
      },
      "source": [
        "activation_len = 1024\n",
        "#Trains each class on every pattern within the training set\n",
        "def encode_patterns(num_classes=50, threshold = 0 ):\n",
        "  train_gen.reset()\n",
        "  i=0\n",
        "  count = 0\n",
        "  thresholds = np.full(activation_len, threshold)\n",
        "  # print(train_gen.__len__())\n",
        "  for x,y in train_gen:\n",
        "      if i >= 300:\n",
        "        break\n",
        "      i+=1\n",
        "      # if i %50 == 0:\n",
        "      #   # print(\"Batches iterared: \", i)\n",
        "      #   # print(\"Count: \",count)\n",
        "\n",
        "      y_dat = np.argmax(y, axis=1)\n",
        "      y_filt = np.where(y_dat < num_classes)\n",
        "      x_filt = x[y_filt]\n",
        "\n",
        "      #Only train patterns on the specific chosen classes\n",
        "      if len(y_filt[0] > 0 ):\n",
        "        x_features = partial_model([x_filt], training=False)\n",
        "        prediction = dense_model.predict(x_filt)\n",
        "        test_preds = np.argmax(prediction, axis=1)\n",
        "\n",
        "        for x,y, out in zip( test_preds,y_dat[y_filt], x_features):\n",
        "\n",
        "          #Only encode correctly predict classes \n",
        "          if x == y:\n",
        "            count+=1 \n",
        "            \n",
        "            pattern = np.greater(out, thresholds)\n",
        "            class_monitor_list[x].addpattern(bdd_new, pattern)\n",
        "  print(\"Count: \",count)"
      ],
      "execution_count": null,
      "outputs": []
    },
    {
      "cell_type": "code",
      "metadata": {
        "colab": {
          "base_uri": "https://localhost:8080/"
        },
        "id": "tEVPyg8Qlf7B",
        "outputId": "45b396eb-25a2-448e-fb07-481a2319c930"
      },
      "source": [
        "encode_patterns()"
      ],
      "execution_count": null,
      "outputs": [
        {
          "output_type": "stream",
          "text": [
            "Count:  24376\n"
          ],
          "name": "stdout"
        }
      ]
    },
    {
      "cell_type": "code",
      "metadata": {
        "id": "1dE7GvN3OXot"
      },
      "source": [
        "#Hamming distance extension function\n",
        "def extend_patterns(num_classes=50):\n",
        "  for i in range(num_classes):\n",
        "    class_monitor_list[i].enlargeset(bdd_new)"
      ],
      "execution_count": null,
      "outputs": []
    },
    {
      "cell_type": "code",
      "metadata": {
        "id": "Z7jR4OxLq2jp"
      },
      "source": [
        "#Test function with metrics\n",
        "np.set_printoptions(precision=3)\n",
        "\n",
        "def test_class_monitors(num_classes=50, threshold = 0):\n",
        "  thresholds = np.full(activation_len, threshold)\n",
        "  classified_wrong = 0\n",
        "  out_of_activation_wrong = 0\n",
        "  out_of_activation = 0\n",
        "  total =0\n",
        "  i= 0\n",
        "\n",
        "  for x,y in test_gen:\n",
        "    i+=1\n",
        "    if i>test_gen.__len__():\n",
        "        break\n",
        "    prediction = dense_model.predict(x)\n",
        "    test_preds = np.argmax(prediction, axis=1)\n",
        "\n",
        "    #Only test on predictions within the class\n",
        "    x_index = np.where(test_preds < num_classes)\n",
        "    if(len(x_index[0]) >0):\n",
        "      x_filt = x[x_index]\n",
        "      test_preds_filt = test_preds[x_index]\n",
        "      y_filt = y[x_index]\n",
        "      x_features = partial_model([x_filt], training=False)\n",
        "      \n",
        "      y_dat = np.argmax(y_filt, axis=1)\n",
        "\n",
        "      for x,y, part in zip(test_preds_filt,y_dat, x_features):\n",
        "        total+=1\n",
        "        pattern = np.greater(part, thresholds)\n",
        "        contained = class_monitor_list[x].ispattern( bdd_new,  pattern)\n",
        "        if not contained:\n",
        "          out_of_activation += 1\n",
        "        if x != y: \n",
        "          classified_wrong+=1 \n",
        "          if not contained:\n",
        "            out_of_activation_wrong+= 1\n",
        "  #Results\n",
        "  print(\"Out_of_activation : \", out_of_activation, \" Classified Wrong: \" ,classified_wrong, \"Classified wrong and out of activation: \", out_of_activation_wrong, \"Total: \", total  )\n",
        "  if(out_of_activation > 0):\n",
        "    print(\"Accuracy: \", 1- classified_wrong/total,  \" Percent Out of Activation: \", 100* out_of_activation/total, \" outofAandwrong/wrong: \", 100* out_of_activation_wrong/classified_wrong, \" outofAandwrong/outofA: \", 100* out_of_activation_wrong/out_of_activation)\n",
        "  dictified = {\"wrong\": classified_wrong, \"total\": total , \"out_act\": out_of_activation, \"out_act_wrong\": out_of_activation_wrong  }\n",
        "  return dictified"
      ],
      "execution_count": null,
      "outputs": []
    },
    {
      "cell_type": "code",
      "metadata": {
        "id": "0MehIvWpuBD7"
      },
      "source": [
        "res = test_class_monitors(num_classes=50)"
      ],
      "execution_count": null,
      "outputs": []
    },
    {
      "cell_type": "markdown",
      "metadata": {
        "id": "n2D6QgSfrxcX"
      },
      "source": [
        "#Hyper Parameter Searches"
      ]
    },
    {
      "cell_type": "code",
      "metadata": {
        "colab": {
          "base_uri": "https://localhost:8080/"
        },
        "id": "wJ7SB0-YLkRz",
        "outputId": "38167883-e05b-41e1-e38f-4560c066bf2d"
      },
      "source": [
        "#Large scale hyper parameter search\n",
        "neuron_lengths =[100,160,200,240]\n",
        "neuron_neg =[0, 5,10]\n",
        "thersholdings =[0.0001, 0.0005, 0.0025, 0.005]\n",
        "\n",
        "patternname =[]\n",
        "hyper_search = []\n",
        "for split in neuron_neg:\n",
        "  for length in neuron_lengths:\n",
        "    for threshold in thersholdings:\n",
        "        name = \"split_\" + str(split) + \"length_\" + str(length) + \"threshold_\" + str(threshold)\n",
        "        print(name)\n",
        "        patternname.append(name)\n",
        "\n",
        "        bdd_new, class_monitor_list = init_class_monitors(num_neurons =length, split= split)\n",
        "        encode_patterns(threshold=threshold)\n",
        "        res = test_class_monitors(num_classes=50, threshold=threshold)\n",
        "        hyper_search.append(res)\n",
        "\n",
        "\n",
        "\n"
      ],
      "execution_count": null,
      "outputs": [
        {
          "output_type": "stream",
          "text": [
            "split_0length_100threshold_0.0001\n",
            "Count:  24376\n",
            "Out_of_activation :  45  Classified Wrong:  554 Classified wrong and out of activation:  31 Total:  2458\n",
            "Accuracy:  0.774613506916192  Percent Out of Activation:  1.8307567127746136  outofAandwrong/wrong:  5.595667870036101  outofAandwrong/outofA:  68.88888888888889\n",
            "split_0length_100threshold_0.0005\n",
            "Count:  24376\n",
            "Out_of_activation :  54  Classified Wrong:  554 Classified wrong and out of activation:  36 Total:  2458\n",
            "Accuracy:  0.774613506916192  Percent Out of Activation:  2.196908055329536  outofAandwrong/wrong:  6.498194945848375  outofAandwrong/outofA:  66.66666666666667\n",
            "split_0length_100threshold_0.0025\n",
            "Count:  24376\n",
            "Out_of_activation :  85  Classified Wrong:  554 Classified wrong and out of activation:  52 Total:  2458\n",
            "Accuracy:  0.774613506916192  Percent Out of Activation:  3.4580960130187144  outofAandwrong/wrong:  9.386281588447654  outofAandwrong/outofA:  61.1764705882353\n",
            "split_0length_100threshold_0.005\n",
            "Count:  24376\n",
            "Out_of_activation :  138  Classified Wrong:  554 Classified wrong and out of activation:  67 Total:  2458\n",
            "Accuracy:  0.774613506916192  Percent Out of Activation:  5.614320585842148  outofAandwrong/wrong:  12.093862815884476  outofAandwrong/outofA:  48.55072463768116\n",
            "split_0length_160threshold_0.0001\n",
            "Count:  24376\n",
            "Out_of_activation :  83  Classified Wrong:  554 Classified wrong and out of activation:  46 Total:  2458\n",
            "Accuracy:  0.774613506916192  Percent Out of Activation:  3.3767290480065095  outofAandwrong/wrong:  8.303249097472925  outofAandwrong/outofA:  55.42168674698795\n",
            "split_0length_160threshold_0.0005\n",
            "Count:  24376\n",
            "Out_of_activation :  98  Classified Wrong:  554 Classified wrong and out of activation:  52 Total:  2458\n",
            "Accuracy:  0.774613506916192  Percent Out of Activation:  3.986981285598047  outofAandwrong/wrong:  9.386281588447654  outofAandwrong/outofA:  53.06122448979592\n",
            "split_0length_160threshold_0.0025\n",
            "Count:  24376\n",
            "Out_of_activation :  153  Classified Wrong:  554 Classified wrong and out of activation:  72 Total:  2458\n",
            "Accuracy:  0.774613506916192  Percent Out of Activation:  6.224572823433686  outofAandwrong/wrong:  12.99638989169675  outofAandwrong/outofA:  47.05882352941177\n",
            "split_0length_160threshold_0.005\n",
            "Count:  24376\n",
            "Out_of_activation :  303  Classified Wrong:  554 Classified wrong and out of activation:  119 Total:  2458\n",
            "Accuracy:  0.774613506916192  Percent Out of Activation:  12.327095199349063  outofAandwrong/wrong:  21.48014440433213  outofAandwrong/outofA:  39.273927392739274\n",
            "split_0length_200threshold_0.0001\n",
            "Count:  24376\n",
            "Out_of_activation :  104  Classified Wrong:  554 Classified wrong and out of activation:  53 Total:  2458\n",
            "Accuracy:  0.774613506916192  Percent Out of Activation:  4.231082180634663  outofAandwrong/wrong:  9.566787003610107  outofAandwrong/outofA:  50.96153846153846\n",
            "split_0length_200threshold_0.0005\n",
            "Count:  24376\n",
            "Out_of_activation :  124  Classified Wrong:  554 Classified wrong and out of activation:  60 Total:  2458\n",
            "Accuracy:  0.774613506916192  Percent Out of Activation:  5.044751830756713  outofAandwrong/wrong:  10.830324909747292  outofAandwrong/outofA:  48.38709677419355\n",
            "split_0length_200threshold_0.0025\n",
            "Count:  24376\n",
            "Out_of_activation :  218  Classified Wrong:  554 Classified wrong and out of activation:  93 Total:  2458\n",
            "Accuracy:  0.774613506916192  Percent Out of Activation:  8.868999186330349  outofAandwrong/wrong:  16.787003610108304  outofAandwrong/outofA:  42.6605504587156\n",
            "split_0length_200threshold_0.005\n",
            "Count:  24376\n",
            "Out_of_activation :  433  Classified Wrong:  554 Classified wrong and out of activation:  155 Total:  2458\n",
            "Accuracy:  0.774613506916192  Percent Out of Activation:  17.615947925142393  outofAandwrong/wrong:  27.978339350180505  outofAandwrong/outofA:  35.79676674364896\n",
            "split_0length_240threshold_0.0001\n",
            "Count:  24376\n",
            "Out_of_activation :  138  Classified Wrong:  554 Classified wrong and out of activation:  66 Total:  2458\n",
            "Accuracy:  0.774613506916192  Percent Out of Activation:  5.614320585842148  outofAandwrong/wrong:  11.913357400722022  outofAandwrong/outofA:  47.82608695652174\n",
            "split_0length_240threshold_0.0005\n",
            "Count:  24376\n",
            "Out_of_activation :  164  Classified Wrong:  554 Classified wrong and out of activation:  80 Total:  2458\n",
            "Accuracy:  0.774613506916192  Percent Out of Activation:  6.672091131000814  outofAandwrong/wrong:  14.440433212996389  outofAandwrong/outofA:  48.78048780487805\n",
            "split_0length_240threshold_0.0025\n",
            "Count:  24376\n",
            "Out_of_activation :  308  Classified Wrong:  554 Classified wrong and out of activation:  119 Total:  2458\n",
            "Accuracy:  0.774613506916192  Percent Out of Activation:  12.530512611879576  outofAandwrong/wrong:  21.48014440433213  outofAandwrong/outofA:  38.63636363636363\n",
            "split_0length_240threshold_0.005\n"
          ],
          "name": "stdout"
        }
      ]
    },
    {
      "cell_type": "code",
      "metadata": {
        "colab": {
          "base_uri": "https://localhost:8080/"
        },
        "id": "bk0EpaIh2Zn4",
        "outputId": "3ad3aa70-f0d3-4a3e-a2ca-74d3109d74a2"
      },
      "source": [
        "#Hyperparameter search on neuron length\n",
        "neuron_lengths =[20,40,60,80,100,120,140,160,180,200,220,240,260]\n",
        "neuron_lengths_results=[]\n",
        "for length in neuron_lengths:\n",
        "\n",
        "  bdd_new, class_monitor_list = init_class_monitors(num_neurons =length)\n",
        "  encode_patterns()\n",
        "  res = test_class_monitors(num_classes=50)\n",
        "  neuron_lengths_results.append(res)\n",
        "\n",
        "print(neuron_lengths_results)"
      ],
      "execution_count": null,
      "outputs": [
        {
          "output_type": "stream",
          "text": [
            "Count:  24376\n",
            "Out_of_activation :  12  Classified Wrong:  554 Classified wrong and out of activation:  5 Total:  2458\n",
            "Accuracy:  0.774613506916192  Percent Out of Activation:  0.4882017900732303  outofAandwrong/wrong:  0.9025270758122743  outofAandwrong/outofA:  41.666666666666664\n",
            "Count:  24376\n",
            "Out_of_activation :  21  Classified Wrong:  554 Classified wrong and out of activation:  11 Total:  2458\n",
            "Accuracy:  0.774613506916192  Percent Out of Activation:  0.8543531326281529  outofAandwrong/wrong:  1.9855595667870036  outofAandwrong/outofA:  52.38095238095238\n",
            "Count:  24376\n",
            "Out_of_activation :  24  Classified Wrong:  554 Classified wrong and out of activation:  13 Total:  2458\n",
            "Accuracy:  0.774613506916192  Percent Out of Activation:  0.9764035801464606  outofAandwrong/wrong:  2.3465703971119134  outofAandwrong/outofA:  54.166666666666664\n",
            "Count:  24376\n",
            "Out_of_activation :  34  Classified Wrong:  554 Classified wrong and out of activation:  21 Total:  2458\n",
            "Accuracy:  0.774613506916192  Percent Out of Activation:  1.3832384052074858  outofAandwrong/wrong:  3.7906137184115525  outofAandwrong/outofA:  61.76470588235294\n",
            "Count:  24376\n",
            "Out_of_activation :  43  Classified Wrong:  554 Classified wrong and out of activation:  29 Total:  2458\n",
            "Accuracy:  0.774613506916192  Percent Out of Activation:  1.7493897477624085  outofAandwrong/wrong:  5.234657039711191  outofAandwrong/outofA:  67.44186046511628\n",
            "Count:  24376\n",
            "Out_of_activation :  57  Classified Wrong:  554 Classified wrong and out of activation:  35 Total:  2458\n",
            "Accuracy:  0.774613506916192  Percent Out of Activation:  2.3189585028478437  outofAandwrong/wrong:  6.317689530685921  outofAandwrong/outofA:  61.40350877192982\n",
            "Count:  24376\n",
            "Out_of_activation :  69  Classified Wrong:  554 Classified wrong and out of activation:  40 Total:  2458\n",
            "Accuracy:  0.774613506916192  Percent Out of Activation:  2.807160292921074  outofAandwrong/wrong:  7.2202166064981945  outofAandwrong/outofA:  57.971014492753625\n",
            "Count:  24376\n",
            "Out_of_activation :  79  Classified Wrong:  554 Classified wrong and out of activation:  44 Total:  2458\n",
            "Accuracy:  0.774613506916192  Percent Out of Activation:  3.2139951179820994  outofAandwrong/wrong:  7.9422382671480145  outofAandwrong/outofA:  55.69620253164557\n",
            "Count:  24376\n",
            "Out_of_activation :  90  Classified Wrong:  554 Classified wrong and out of activation:  49 Total:  2458\n",
            "Accuracy:  0.774613506916192  Percent Out of Activation:  3.661513425549227  outofAandwrong/wrong:  8.844765342960288  outofAandwrong/outofA:  54.44444444444444\n",
            "Count:  24376\n",
            "Out_of_activation :  100  Classified Wrong:  554 Classified wrong and out of activation:  52 Total:  2458\n",
            "Accuracy:  0.774613506916192  Percent Out of Activation:  4.068348250610252  outofAandwrong/wrong:  9.386281588447654  outofAandwrong/outofA:  52.0\n",
            "Count:  24376\n",
            "Out_of_activation :  119  Classified Wrong:  554 Classified wrong and out of activation:  61 Total:  2458\n",
            "Accuracy:  0.774613506916192  Percent Out of Activation:  4.8413344182262  outofAandwrong/wrong:  11.010830324909747  outofAandwrong/outofA:  51.260504201680675\n",
            "Count:  24376\n",
            "Out_of_activation :  133  Classified Wrong:  554 Classified wrong and out of activation:  65 Total:  2458\n",
            "Accuracy:  0.774613506916192  Percent Out of Activation:  5.4109031733116355  outofAandwrong/wrong:  11.732851985559567  outofAandwrong/outofA:  48.87218045112782\n",
            "Count:  24376\n",
            "Out_of_activation :  156  Classified Wrong:  554 Classified wrong and out of activation:  78 Total:  2458\n",
            "Accuracy:  0.774613506916192  Percent Out of Activation:  6.346623270951993  outofAandwrong/wrong:  14.07942238267148  outofAandwrong/outofA:  50.0\n",
            "[{'wrong': 554, 'total': 2458, 'out_act': 12, 'out_act_wrong': 5}, {'wrong': 554, 'total': 2458, 'out_act': 21, 'out_act_wrong': 11}, {'wrong': 554, 'total': 2458, 'out_act': 24, 'out_act_wrong': 13}, {'wrong': 554, 'total': 2458, 'out_act': 34, 'out_act_wrong': 21}, {'wrong': 554, 'total': 2458, 'out_act': 43, 'out_act_wrong': 29}, {'wrong': 554, 'total': 2458, 'out_act': 57, 'out_act_wrong': 35}, {'wrong': 554, 'total': 2458, 'out_act': 69, 'out_act_wrong': 40}, {'wrong': 554, 'total': 2458, 'out_act': 79, 'out_act_wrong': 44}, {'wrong': 554, 'total': 2458, 'out_act': 90, 'out_act_wrong': 49}, {'wrong': 554, 'total': 2458, 'out_act': 100, 'out_act_wrong': 52}, {'wrong': 554, 'total': 2458, 'out_act': 119, 'out_act_wrong': 61}, {'wrong': 554, 'total': 2458, 'out_act': 133, 'out_act_wrong': 65}, {'wrong': 554, 'total': 2458, 'out_act': 156, 'out_act_wrong': 78}]\n"
          ],
          "name": "stdout"
        }
      ]
    },
    {
      "cell_type": "code",
      "metadata": {
        "id": "xL8OtJ_SQoql"
      },
      "source": [
        ""
      ],
      "execution_count": null,
      "outputs": []
    },
    {
      "cell_type": "code",
      "metadata": {
        "id": "fQuddrOvInYZ"
      },
      "source": [
        "import pickle\n",
        "\n",
        "# pickle.dump( vary_neuron, open( \"/content/drive/MyDrive/deep_learning/vary_neuron.p\", \"wb\" ) )\n",
        "pickle.dump( neuron_lengths_results, open( \"/content/drive/MyDrive/deep_learning/neuron_lengths_results.p\", \"wb\" ) )"
      ],
      "execution_count": null,
      "outputs": []
    },
    {
      "cell_type": "code",
      "metadata": {
        "id": "TALxaGSpI0I4"
      },
      "source": [
        "#Hyperparameter search on neuron negativesplit\n",
        "neuron_neg =[10,15,20, 25, 50]\n",
        "neuron_neg_results=[]\n",
        "for neg in neuron_neg:\n",
        "  bdd_new, class_monitor_list = init_class_monitors(split=neg)\n",
        "  encode_patterns()\n",
        "  res = test_class_monitors(num_classes=50)\n",
        "  neuron_neg_results.append(res)\n",
        "  print(\"extending pattern\")\n",
        "  extend_patterns()\n",
        "  res = test_class_monitors(num_classes=50)\n",
        "  neuron_neg_results.append(res)\n",
        "\n",
        "print(neuron_neg_results)"
      ],
      "execution_count": null,
      "outputs": []
    },
    {
      "cell_type": "code",
      "metadata": {
        "id": "PRDOXrJxPPuY"
      },
      "source": [
        "pickle.dump( neuron_neg_results, open( \"/content/drive/MyDrive/deep_learning/neuron_neg_results.p\", \"wb\" ) )"
      ],
      "execution_count": null,
      "outputs": []
    },
    {
      "cell_type": "code",
      "metadata": {
        "colab": {
          "base_uri": "https://localhost:8080/"
        },
        "id": "oD12adnvPWJy",
        "outputId": "22accfd2-ea3f-4db3-f4d5-fdfbc3c11c58"
      },
      "source": [
        "#Hyperparameter search on hamming\n",
        "hamming =[100, 150, 200, 250]\n",
        "hamming_results=[]\n",
        "for ham in hamming:\n",
        "  bdd_new, class_monitor_list = init_class_monitors(num_neurons=ham)\n",
        "  encode_patterns()\n",
        "  res = test_class_monitors(num_classes=50)\n",
        "  hamming_results.append(res)\n",
        "  print(\"extending pattern\")\n",
        "  extend_patterns()\n",
        "  res2 = test_class_monitors(num_classes=50)\n",
        "  hamming_results.append(res2)\n",
        "\n",
        "print(hamming_results)\n",
        "pickle.dump( hamming_results, open( \"/content/drive/MyDrive/deep_learning/hamming_results.p\", \"wb\" ) )"
      ],
      "execution_count": null,
      "outputs": [
        {
          "output_type": "stream",
          "text": [
            "Count:  24376\n",
            "Out_of_activation :  43  Classified Wrong:  554 Classified wrong and out of activation:  29 Total:  2458\n",
            "extending pattern\n",
            "Out_of_activation :  0  Classified Wrong:  554 Classified wrong and out of activation:  0 Total:  2458\n",
            "Count:  24376\n",
            "Out_of_activation :  73  Classified Wrong:  554 Classified wrong and out of activation:  42 Total:  2458\n",
            "extending pattern\n",
            "Out_of_activation :  3  Classified Wrong:  554 Classified wrong and out of activation:  2 Total:  2458\n",
            "Count:  24376\n",
            "Out_of_activation :  100  Classified Wrong:  554 Classified wrong and out of activation:  52 Total:  2458\n",
            "extending pattern\n",
            "Out_of_activation :  9  Classified Wrong:  554 Classified wrong and out of activation:  6 Total:  2458\n",
            "Count:  24376\n",
            "Out_of_activation :  141  Classified Wrong:  554 Classified wrong and out of activation:  69 Total:  2458\n",
            "extending pattern\n",
            "Out_of_activation :  15  Classified Wrong:  554 Classified wrong and out of activation:  10 Total:  2458\n",
            "[{'wrong': 554, 'total': 2458, 'out_act': 43, 'out_act_wrong': 29}, {'wrong': 554, 'total': 2458, 'out_act': 0, 'out_act_wrong': 0}, {'wrong': 554, 'total': 2458, 'out_act': 73, 'out_act_wrong': 42}, {'wrong': 554, 'total': 2458, 'out_act': 3, 'out_act_wrong': 2}, {'wrong': 554, 'total': 2458, 'out_act': 100, 'out_act_wrong': 52}, {'wrong': 554, 'total': 2458, 'out_act': 9, 'out_act_wrong': 6}, {'wrong': 554, 'total': 2458, 'out_act': 141, 'out_act_wrong': 69}, {'wrong': 554, 'total': 2458, 'out_act': 15, 'out_act_wrong': 10}]\n"
          ],
          "name": "stdout"
        }
      ]
    },
    {
      "cell_type": "code",
      "metadata": {
        "colab": {
          "base_uri": "https://localhost:8080/"
        },
        "id": "VYHSCceEZJfv",
        "outputId": "883a62c2-3045-4e16-cfbb-210aa7babadf"
      },
      "source": [
        "#Hyperparameter search on thersholding \n",
        "thersholdings =[0.0001, 0.00025, 0.0005, 0.001, 0.0025, 0.005, 0.01, 0.05]\n",
        "thersholdings_results=[]\n",
        "for thersh in thersholdings:\n",
        "  bdd_new, class_monitor_list = init_class_monitors()\n",
        "  encode_patterns(threshold=thersh)\n",
        "  res = test_class_monitors(num_classes=50, threshold=thersh)\n",
        "  thersholdings_results.append(res)\n",
        "\n",
        "print(thersholdings_results)\n",
        "pickle.dump( thersholdings_results, open( \"/content/drive/MyDrive/deep_learning/thersholdings_results.p\", \"wb\" ) )"
      ],
      "execution_count": null,
      "outputs": [
        {
          "output_type": "stream",
          "text": [
            "Exception ignored in: <bound method BDD.__del__ of <dd.bdd.BDD object at 0x7fda4da2fbe0>>\n",
            "Traceback (most recent call last):\n",
            "  File \"/usr/local/lib/python3.6/dist-packages/dd/bdd.py\", line 186, in __del__\n",
            "    assert all(v == 0 for v in self._ref.values()), self._ref\n",
            "AssertionError: {1: 169, 4952: 1, 4953: 1, 4954: 1, 4955: 1, 4956: 1, 4957: 1, 4958: 1, 4959: 1, 4960: 1, 4961: 1, 4962: 1, 4963: 1, 4964: 1, 4965: 1, 4966: 1, 4967: 1, 4968: 1, 4969: 1, 4970: 1, 4971: 1, 4972: 1, 4973: 1, 4974: 1, 4975: 1, 4976: 1, 4977: 1, 4978: 2, 4979: 1, 4980: 1, 4981: 1, 29874: 1, 45375: 1, 45376: 1, 45377: 1, 45378: 1, 45379: 1, 45380: 1, 45381: 1, 45382: 1, 45383: 1, 45384: 1, 45385: 2, 45386: 1, 45387: 1, 45388: 1, 45389: 1, 45390: 1, 45391: 1, 45392: 1, 45393: 1, 45394: 2, 45395: 1, 45396: 1, 45397: 1, 45398: 1, 45399: 1, 45400: 1, 45401: 1, 45402: 1, 45403: 1, 45404: 1, 45405: 1, 45406: 1, 45407: 1, 45408: 1, 45409: 1, 45410: 1, 45411: 1, 45412: 1, 45413: 1, 45414: 1, 45415: 1, 45416: 1, 45417: 1, 45418: 1, 45419: 1, 45420: 1, 45421: 1, 45422: 1, 45423: 1, 45424: 1, 45425: 1, 45426: 1, 45427: 1, 45428: 1, 45429: 1, 45430: 1, 45431: 1, 45432: 1, 45433: 1, 45434: 1, 45435: 1, 45436: 1, 45437: 1, 45438: 1, 45439: 1, 45440: 1, 45441: 1, 45442: 1, 47487: 1, 47488: 1, 47489: 1, 47490: 1, 47491: 1, 47492: 1, 47493: 1, 47494: 1, 47495: 1, 47496: 1, 47497: 1, 47498: 1, 47499: 1, 47500: 1, 52716: 1, 52717: 1, 52718: 1, 52719: 1, 52720: 1, 52721: 1, 52722: 1, 52723: 1, 52724: 1, 52725: 1, 52726: 1, 52727: 1, 52728: 1, 52729: 1, 52730: 1, 52731: 1, 52732: 1, 52733: 1, 52734: 1, 52735: 1, 52736: 1, 52737: 1, 52738: 1, 52739: 1, 52740: 1, 52741: 1, 52742: 1, 52743: 1, 52744: 1, 52745: 1, 52746: 1, 52747: 1, 52748: 1, 52749: 1, 52750: 1, 52751: 1, 52752: 1, 52753: 1, 52754: 1, 52755: 1, 52756: 1, 52757: 1, 52758: 1, 52759: 1, 52760: 1, 52761: 1, 52762: 1, 52763: 1, 52764: 1, 52765: 1, 52766: 1, 52767: 1, 52768: 1, 52769: 1, 52770: 1, 52771: 1, 52772: 1, 52773: 1}\n"
          ],
          "name": "stderr"
        },
        {
          "output_type": "stream",
          "text": [
            "Count:  24376\n",
            "Out_of_activation :  45  Classified Wrong:  554 Classified wrong and out of activation:  31 Total:  2458\n",
            "Count:  24376\n",
            "Out_of_activation :  50  Classified Wrong:  554 Classified wrong and out of activation:  32 Total:  2458\n",
            "Count:  24376\n",
            "Out_of_activation :  54  Classified Wrong:  554 Classified wrong and out of activation:  36 Total:  2458\n",
            "Count:  24376\n",
            "Out_of_activation :  65  Classified Wrong:  554 Classified wrong and out of activation:  40 Total:  2458\n",
            "Count:  24376\n",
            "Out_of_activation :  85  Classified Wrong:  554 Classified wrong and out of activation:  52 Total:  2458\n",
            "Count:  24376\n",
            "Out_of_activation :  138  Classified Wrong:  554 Classified wrong and out of activation:  67 Total:  2458\n",
            "Count:  24376\n",
            "Out_of_activation :  346  Classified Wrong:  554 Classified wrong and out of activation:  141 Total:  2458\n",
            "Count:  24376\n",
            "Out_of_activation :  2123  Classified Wrong:  554 Classified wrong and out of activation:  506 Total:  2458\n",
            "[{'wrong': 554, 'total': 2458, 'out_act': 45, 'out_act_wrong': 31}, {'wrong': 554, 'total': 2458, 'out_act': 50, 'out_act_wrong': 32}, {'wrong': 554, 'total': 2458, 'out_act': 54, 'out_act_wrong': 36}, {'wrong': 554, 'total': 2458, 'out_act': 65, 'out_act_wrong': 40}, {'wrong': 554, 'total': 2458, 'out_act': 85, 'out_act_wrong': 52}, {'wrong': 554, 'total': 2458, 'out_act': 138, 'out_act_wrong': 67}, {'wrong': 554, 'total': 2458, 'out_act': 346, 'out_act_wrong': 141}, {'wrong': 554, 'total': 2458, 'out_act': 2123, 'out_act_wrong': 506}]\n"
          ],
          "name": "stdout"
        }
      ]
    },
    {
      "cell_type": "code",
      "metadata": {
        "id": "0pLfuqpAwbqv"
      },
      "source": [
        "#Hyperparameter search on thersholding \n",
        "thersholdings =[0.0001, 0.00025, 0.0005, 0.001, 0.0025, 0.005, 0.01, 0.05]\n",
        "thersholdings150_results=[]\n",
        "for thersh in thersholdings:\n",
        "  bdd_new, class_monitor_list = init_class_monitors(num_neurons=150)\n",
        "  encode_patterns(threshold=thersh)\n",
        "  res = test_class_monitors(num_classes=50, threshold=thersh)\n",
        "  thersholdings150_results.append(res)\n",
        "\n",
        "print(thersholdings150_results)\n",
        "pickle.dump( thersholdings150_results, open( \"/content/drive/MyDrive/deep_learning/thersholdings150_results.p\", \"wb\" ) )"
      ],
      "execution_count": null,
      "outputs": []
    },
    {
      "cell_type": "markdown",
      "metadata": {
        "id": "1sVsiWJpr81A"
      },
      "source": [
        "#Graphing Code (Not Important)"
      ]
    },
    {
      "cell_type": "code",
      "metadata": {
        "id": "x8SXqelxWSB1"
      },
      "source": [
        "neuron_lengths_results = pickle.load( open( \"/content/drive/MyDrive/deep_learning/neuron_lengths_results.p\", \"rb\" ) )"
      ],
      "execution_count": null,
      "outputs": []
    },
    {
      "cell_type": "code",
      "metadata": {
        "id": "o8oaUabyB_Y0"
      },
      "source": [
        "thersholdings_results = pickle.load( open( \"/content/drive/MyDrive/deep_learning/thersholdings_results.p\", \"rb\" ) )"
      ],
      "execution_count": null,
      "outputs": []
    },
    {
      "cell_type": "code",
      "metadata": {
        "colab": {
          "base_uri": "https://localhost:8080/"
        },
        "id": "segKGI6jpS1-",
        "outputId": "e0af0dac-935c-4921-9de1-f31afb6ffd1d"
      },
      "source": [
        "for res in neuron_neg_results:\n",
        "  print(\"RESULT\")\n",
        "  print(\"Trigger rate: \",100 * res[\"out_act\"]/res[\"total\"], end =\" \")\n",
        "  print(\"Pattern probability: \",100 * res[\"out_act_wrong\"]/res[\"out_act\"], end =\" \")\n",
        "  print(\"Senstivity: \",100 * res[\"out_act_wrong\"]/res[\"wrong\"])\n"
      ],
      "execution_count": null,
      "outputs": [
        {
          "output_type": "stream",
          "text": [
            "RESULT\n",
            "Trigger rate:  1.871440195280716 Pattern probability:  60.869565217391305 Senstivity:  5.054151624548736\n",
            "RESULT\n",
            "Trigger rate:  2.034174125305126 Pattern probability:  60.0 Senstivity:  5.415162454873646\n",
            "RESULT\n",
            "Trigger rate:  2.888527257933279 Pattern probability:  46.478873239436616 Senstivity:  5.956678700361011\n",
            "RESULT\n",
            "Trigger rate:  7.038242473555736 Pattern probability:  26.589595375722542 Senstivity:  8.303249097472925\n",
            "RESULT\n",
            "Trigger rate:  16.151342554922703 Pattern probability:  18.89168765743073 Senstivity:  13.537906137184116\n",
            "RESULT\n",
            "Trigger rate:  25.508543531326282 Pattern probability:  17.54385964912281 Senstivity:  19.855595667870038\n"
          ],
          "name": "stdout"
        }
      ]
    },
    {
      "cell_type": "code",
      "metadata": {
        "id": "TZuuM0FNqcyo"
      },
      "source": [
        "in_act = []\n",
        "act_wrong_total = []\n",
        "act_wrong = []\n",
        "thersholdings =[0.0001, 0.00025, 0.0005, 0.001, 0.0025, 0.005, 0.01, 0.05]\n",
        "for neg in thersholdings_results[:-2]:\n",
        "  in_act.append(100 * neg[\"out_act\"]/neg[\"total\"])\n",
        "  act_wrong_total.append(100 * neg[\"out_act_wrong\"]/neg[\"out_act\"])\n",
        "  act_wrong.append(100 * neg[\"out_act_wrong\"]/neg[\"wrong\"])"
      ],
      "execution_count": null,
      "outputs": []
    },
    {
      "cell_type": "code",
      "metadata": {
        "colab": {
          "base_uri": "https://localhost:8080/",
          "height": 294
        },
        "id": "ehw8vG0-4whB",
        "outputId": "f9bb0b89-97ad-49bf-f277-0a0099f4d440"
      },
      "source": [
        "%matplotlib inline\n",
        "import matplotlib.pyplot as plt\n",
        "x = np.linspace(0,6,100)\n",
        "y = x\n",
        "plt.plot(x, y, ':r')\n",
        "# label = [\"99/1\", \"95/5\", \"90/10\", \"80/20\"]\n",
        "neuron_lengths =[20,40,60,80,100,120,140,160,180,200,220,240,260]\n",
        "neuron_neg =[1, 5, 10,15,20, 25]\n",
        "plt.plot(in_act, act_wrong, 'go')\n",
        "plt.xlabel('Trigger Rate %')\n",
        "plt.ylabel('Sensitivity %')\n",
        "plt.title(\"Sensitivity vs Trigger Rate\")\n",
        "\n",
        "for x,y, lab in zip(in_act,act_wrong, thersholdings ):\n",
        "\n",
        "    # label = \"{:.2f}\".format(y)\n",
        "\n",
        "    plt.annotate(lab, # this is the text\n",
        "                 (x,y), # this is the point to label\n",
        "                 textcoords=\"offset points\", # how to position the text\n",
        "                 xytext=(0,-10), # distance from text to points (x,y)\n",
        "                 ha='center') # horizontal alignment can be left, right or center"
      ],
      "execution_count": null,
      "outputs": [
        {
          "output_type": "display_data",
          "data": {
            "image/png": "[encoded data removed]",
            "text/plain": [
              "<Figure size 432x288 with 1 Axes>"
            ]
          },
          "metadata": {
            "tags": [],
            "needs_background": "light"
          }
        }
      ]
    },
    {
      "cell_type": "code",
      "metadata": {
        "id": "wVayY4wz5z-J"
      },
      "source": [
        ""
      ],
      "execution_count": null,
      "outputs": []
    },
    {
      "cell_type": "code",
      "metadata": {
        "colab": {
          "base_uri": "https://localhost:8080/",
          "height": 312
        },
        "id": "f-A9us9e6h_8",
        "outputId": "21217208-6207-4d53-98f0-c8e69df44d98"
      },
      "source": [
        "# label = [\"20\", \"40\", \"60\", \"80\", \"100\", \"120\", \"140\", \"160\", \"180\", \"200\"]\n",
        "neuron_lengths =[20,40,60,80,100,120,140,160,180,200,220,240,260]\n",
        "# neuron_neg =[10,15,20, 25, 50]\n",
        "print(label)\n",
        "# x = np.linspace(0,15,100)\n",
        "# y = 100 - x\n",
        "# plt.plot(x, y, ':r')\n",
        "plt.grid()\n",
        "plt.plot(in_act, act_wrong_total, 'bo')\n",
        "plt.xlabel('% Out of Pattern / Total')\n",
        "plt.ylabel('% Out of Pattern and Wrong/ Out of Pattern')\n",
        "plt.title(\"Pattern Probability vs Sensitivity\")\n",
        "for x,y, lab in zip(in_act,act_wrong_total, thersholdings ):\n",
        "\n",
        "    # label = \"{:.2f}\".format(y)\n",
        "\n",
        "    plt.annotate(lab, # this is the text\n",
        "                 (x,y), # this is the point to label\n",
        "                 textcoords=\"offset points\", # how to position the text\n",
        "                 xytext=(0,10), # distance from text to points (x,y)\n",
        "                 ha='center') # horizontal alignment can be left, right or center"
      ],
      "execution_count": null,
      "outputs": [
        {
          "output_type": "stream",
          "text": [
            "['99/1', '95/5', '90/10', '80/20']\n"
          ],
          "name": "stdout"
        },
        {
          "output_type": "display_data",
          "data": {
            "image/png": "[encoded data removed]",
            "text/plain": [
              "<Figure size 432x288 with 1 Axes>"
            ]
          },
          "metadata": {
            "tags": [],
            "needs_background": "light"
          }
        }
      ]
    },
    {
      "cell_type": "code",
      "metadata": {
        "colab": {
          "base_uri": "https://localhost:8080/",
          "height": 312
        },
        "id": "RaiC5cB27VfH",
        "outputId": "51371a8c-37c4-456a-d6b4-6a16ba4379fb"
      },
      "source": [
        "# label = [\"20\", \"40\", \"60\", \"80\", \"100\", \"120\", \"140\", \"160\", \"180\", \"200\"]\n",
        "neuron_lengths =[20,40,60,80,100,120,140,160,180,200,220,240,260]\n",
        "print(label)\n",
        "# x = np.linspace(0,15,100)\n",
        "# y = 100 - x\n",
        "# plt.plot(x, y, ':r')\n",
        "plt.grid()\n",
        "plt.plot(act_wrong, act_wrong_total, 'ro')\n",
        "plt.ylabel('Pattern Probability %')\n",
        "plt.xlabel('Sensitivity %')\n",
        "plt.title(\"Pattern Probability vs Sensitivity\")\n",
        "for x,y, lab in zip(act_wrong,act_wrong_total, thersholdings ):\n",
        "\n",
        "    # label = \"{:.2f}\".format(y)\n",
        "\n",
        "    plt.annotate(lab, # this is the text\n",
        "                 (x,y), # this is the point to label\n",
        "                 textcoords=\"offset points\", # how to position the text\n",
        "                 xytext=(0,10), # distance from text to points (x,y)\n",
        "                 ha='center') # horizontal alignment can be left, right or center"
      ],
      "execution_count": null,
      "outputs": [
        {
          "output_type": "stream",
          "text": [
            "['99/1', '95/5', '90/10', '80/20']\n"
          ],
          "name": "stdout"
        },
        {
          "output_type": "display_data",
          "data": {
            "image/png": "[encoded data removed]",
            "text/plain": [
              "<Figure size 432x288 with 1 Axes>"
            ]
          },
          "metadata": {
            "tags": [],
            "needs_background": "light"
          }
        }
      ]
    },
    {
      "cell_type": "code",
      "metadata": {
        "colab": {
          "base_uri": "https://localhost:8080/"
        },
        "id": "-s_PGVOa-3Bu",
        "outputId": "311860f2-45e9-4a85-bc24-e7bf441d25a2"
      },
      "source": [
        "np.set_printoptions(precision=3)\n",
        "for p, x in zip(act_wrong_total, neuron_lengths):\n",
        "  print(\"Portal : % 5.3f\" %(p))   "
      ],
      "execution_count": null,
      "outputs": [
        {
          "output_type": "stream",
          "text": [
            "Portal :  68.889\n",
            "Portal :  64.000\n",
            "Portal :  66.667\n",
            "Portal :  61.538\n",
            "Portal :  61.176\n",
            "Portal :  48.551\n"
          ],
          "name": "stdout"
        }
      ]
    }
  ]
}